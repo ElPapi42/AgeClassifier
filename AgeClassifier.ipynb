{
  "nbformat": 4,
  "nbformat_minor": 0,
  "metadata": {
    "colab": {
      "name": "AgeClassifier.ipynb",
      "provenance": [],
      "collapsed_sections": [],
      "toc_visible": true,
      "include_colab_link": true
    },
    "kernelspec": {
      "name": "python3",
      "display_name": "Python 3"
    },
    "accelerator": "GPU"
  },
  "cells": [
    {
      "cell_type": "markdown",
      "metadata": {
        "id": "view-in-github",
        "colab_type": "text"
      },
      "source": [
        "<a href=\"https://colab.research.google.com/github/ElPapi42/AgeClassifier/blob/master/AgeClassifier.ipynb\" target=\"_parent\"><img src=\"https://colab.research.google.com/assets/colab-badge.svg\" alt=\"Open In Colab\"/></a>"
      ]
    },
    {
      "cell_type": "code",
      "metadata": {
        "id": "Ro-2PDN1osXM",
        "colab_type": "code",
        "colab": {}
      },
      "source": [
        "from IPython.display import clear_output\n",
        "!pip install --upgrade tensorflow-gpu\n",
        "!pip install --upgrade tqdm\n",
        "!pip install --upgrade pillow\n",
        "!pip install git+https://github.com/Jwink3101/parmapper\n",
        "!pip install deepbay\n",
        "clear_output()"
      ],
      "execution_count": 0,
      "outputs": []
    },
    {
      "cell_type": "code",
      "metadata": {
        "id": "0xreyHjck7yp",
        "colab_type": "code",
        "colab": {}
      },
      "source": [
        "#Imports\n",
        "import os\n",
        "import sys\n",
        "import pathlib\n",
        "\n",
        "import PIL\n",
        "import tensorflow as tf\n",
        "import numpy as np\n",
        "import pandas as pd\n",
        "import seaborn as sns\n",
        "import matplotlib.pyplot as plt\n",
        "from parmapper import parmap\n",
        "import deepbay"
      ],
      "execution_count": 0,
      "outputs": []
    },
    {
      "cell_type": "markdown",
      "metadata": {
        "id": "5RD84h7pWVqU",
        "colab_type": "text"
      },
      "source": [
        "## Data Download"
      ]
    },
    {
      "cell_type": "code",
      "metadata": {
        "id": "MaqVduZ2qMrk",
        "colab_type": "code",
        "colab": {}
      },
      "source": [
        "#Downloads and extract Dataset to local\n",
        "#You can run this on google colab for get faster downloads speeds\n",
        "import zipfile\n",
        "import requests\n",
        "from tqdm import tqdm\n",
        "\n",
        "folder_path = \"./Datasets\"\n",
        "\n",
        "appa_url = \"http://158.109.8.102/AppaRealAge/appa-real-release.zip\"\n",
        "appa_path = folder_path + '/appa-real.zip'\n",
        "\n",
        "#Create Dataset folder if not exists\n",
        "if(not os.path.exists(folder_path)):\n",
        "  os.mkdir(folder_path)\n",
        "\n",
        "#download chalearn appa-real dataset\n",
        "if(not(os.path.exists(appa_path) and os.path.isfile(appa_path))):\n",
        "  resp = requests.get(appa_url, stream=True)\n",
        "\n",
        "  total_size = int(resp.headers.get('content-length', 0))\n",
        "  block_size = 16384\n",
        "  t=tqdm(total=total_size, unit='iB', unit_scale=True)\n",
        "  \n",
        "  with open(appa_path, \"wb\") as f:\n",
        "    for data in resp.iter_content(block_size):\n",
        "      t.update(len(data))\n",
        "      f.write(data)\n",
        "    t.close()\n",
        "    f.close()\n",
        "\n",
        "    if total_size != 0 and t.n != total_size:\n",
        "      print(\"Download Error\")\n",
        "\n",
        "  #Extract\n",
        "  with zipfile.ZipFile(appa_path, 'r') as zip:\n",
        "    zip.extractall(folder_path)\n",
        "    zip.close()"
      ],
      "execution_count": 0,
      "outputs": []
    },
    {
      "cell_type": "markdown",
      "metadata": {
        "id": "CxrtrkVPeZKG",
        "colab_type": "text"
      },
      "source": [
        "## Exploratory Data Analysis"
      ]
    },
    {
      "cell_type": "code",
      "metadata": {
        "id": "TRB3ZUxBTVYD",
        "colab_type": "code",
        "colab": {}
      },
      "source": [
        "# Load Datasets\n",
        "df_train = pd.read_csv(\"/content/Datasets/appa-real-release/gt_avg_train.csv\")\n",
        "df_eval = pd.read_csv(\"/content/Datasets/appa-real-release/gt_avg_valid.csv\")\n",
        "df_test = pd.read_csv(\"/content/Datasets/appa-real-release/gt_avg_test.csv\")\n",
        "df_all = pd.concat([df_train, df_eval, df_test])"
      ],
      "execution_count": 0,
      "outputs": []
    },
    {
      "cell_type": "code",
      "metadata": {
        "id": "eY7C8fX1epCd",
        "colab_type": "code",
        "colab": {}
      },
      "source": [
        "# Lets see some examples\n",
        "df_all.head()"
      ],
      "execution_count": 0,
      "outputs": []
    },
    {
      "cell_type": "code",
      "metadata": {
        "id": "88oo3XbZfN4T",
        "colab_type": "code",
        "colab": {}
      },
      "source": [
        "# Check for nulls and other general info\n",
        "df_all.info()"
      ],
      "execution_count": 0,
      "outputs": []
    },
    {
      "cell_type": "code",
      "metadata": {
        "id": "xpob8VWSfpC3",
        "colab_type": "code",
        "colab": {}
      },
      "source": [
        "# Descriptive stats\n",
        "df_all.describe()"
      ],
      "execution_count": 0,
      "outputs": []
    },
    {
      "cell_type": "code",
      "metadata": {
        "id": "kcbu-ux-uant",
        "colab_type": "code",
        "colab": {}
      },
      "source": [
        "# Dataset slices sizes\n",
        "train_size = df_train.count()[0]\n",
        "eval_size = df_eval.count()[0]\n",
        "test_size = df_test.count()[0]\n",
        "\n",
        "print(\"Train: \" + str(train_size))\n",
        "print(\"Evaluation: \" + str(eval_size))\n",
        "print(\"Test: \" + str(test_size))"
      ],
      "execution_count": 0,
      "outputs": []
    },
    {
      "cell_type": "code",
      "metadata": {
        "id": "1dEqV_UxgHI6",
        "colab_type": "code",
        "colab": {}
      },
      "source": [
        "# Lets see the distribution of the apparent age and the real age\n",
        "sns.distplot(df_all[\"apparent_age_avg\"], bins=100)\n",
        "sns.distplot(df_all[\"real_age\"], bins=100)"
      ],
      "execution_count": 0,
      "outputs": []
    },
    {
      "cell_type": "markdown",
      "metadata": {
        "id": "XOG33m9Whs7G",
        "colab_type": "text"
      },
      "source": [
        "The Distribution of age dont deviate too much between the real and the apparent, we can keep it"
      ]
    },
    {
      "cell_type": "code",
      "metadata": {
        "id": "WzjFGPrXh556",
        "colab_type": "code",
        "colab": {}
      },
      "source": [
        "# Now we will check the dist between the train, eval and test datasets\n",
        "plt.figure(figsize=(15,5))\n",
        "\n",
        "plt.subplot(1, 2, 1, title=\"Apparent Avg Age\")\n",
        "sns.distplot(df_train[\"apparent_age_avg\"], bins=100)\n",
        "sns.distplot(df_eval[\"apparent_age_avg\"], bins=100)\n",
        "sns.distplot(df_test[\"apparent_age_avg\"], bins=100)\n",
        "\n",
        "plt.subplot(1, 2, 2, title=\"Real Age\")\n",
        "sns.distplot(df_train[\"real_age\"], bins=100)\n",
        "sns.distplot(df_eval[\"real_age\"], bins=100)\n",
        "sns.distplot(df_test[\"real_age\"], bins=100)\n",
        "\n",
        "plt.show()"
      ],
      "execution_count": 0,
      "outputs": []
    },
    {
      "cell_type": "markdown",
      "metadata": {
        "id": "Gm4At_UYiYcQ",
        "colab_type": "text"
      },
      "source": [
        "This one can be better, dist of test set deviates a bit from train set, but we can keep with this for now. But this visualizations open some questions, how much the avg age deviates from the real age? putting a response here can lead us to detect some possible outliers, because the avg is based on manual reviews from real people that stimates the age of the person they see in the photo. Lets check that"
      ]
    },
    {
      "cell_type": "code",
      "metadata": {
        "id": "7oPEoQhalJCN",
        "colab_type": "code",
        "colab": {}
      },
      "source": [
        "diference = df_all[\"real_age\"] - df_all[\"apparent_age_avg\"]\n",
        "sns.distplot(diference, bins=50)"
      ],
      "execution_count": 0,
      "outputs": []
    },
    {
      "cell_type": "markdown",
      "metadata": {
        "id": "1fBB6ttrq20O",
        "colab_type": "text"
      },
      "source": [
        "We will ignore this deviation for now, but we can keep in mind this for the future"
      ]
    },
    {
      "cell_type": "markdown",
      "metadata": {
        "id": "wqc3wjcDWlK-",
        "colab_type": "text"
      },
      "source": [
        "## Preprocessing"
      ]
    },
    {
      "cell_type": "code",
      "metadata": {
        "id": "B8Temvyc7zxK",
        "colab_type": "code",
        "colab": {}
      },
      "source": [
        "# Find URLs\n",
        "df_train[\"file_url\"] = \"./Datasets/appa-real-release/train/\" + df_train[\"file_name\"] + \"_face.jpg\"\n",
        "df_eval[\"file_url\"] = \"./Datasets/appa-real-release/valid/\" + df_eval[\"file_name\"] + \"_face.jpg\"\n",
        "df_test[\"file_url\"] = \"./Datasets/appa-real-release/test/\" + df_test[\"file_name\"] + \"_face.jpg\"\n",
        "df_train.head()"
      ],
      "execution_count": 0,
      "outputs": []
    },
    {
      "cell_type": "code",
      "metadata": {
        "id": "qElqE0dCbz7T",
        "colab_type": "code",
        "colab": {}
      },
      "source": [
        "#Lets see some examples\n",
        "plt.figure(figsize=(10,10))\n",
        "for i, path in enumerate(df_train[\"file_url\"].iloc[:9]):\n",
        "  image = tf.io.read_file(path)\n",
        "  image = tf.image.decode_image(image)\n",
        "\n",
        "  datapoint = df_train[df_train[\"file_url\"] == path]\n",
        "  age = datapoint[\"apparent_age_avg\"].values[0]\n",
        "\n",
        "  plt.subplot(3,3,i+1, title=\"age: {age}\".format(age=age))\n",
        "  plt.imshow(image)\n",
        "plt.show()"
      ],
      "execution_count": 0,
      "outputs": []
    },
    {
      "cell_type": "markdown",
      "metadata": {
        "id": "FHSHNXDelIum",
        "colab_type": "text"
      },
      "source": [
        "## Dataset Creation"
      ]
    },
    {
      "cell_type": "code",
      "metadata": {
        "id": "bELKxoRglHgP",
        "colab_type": "code",
        "colab": {}
      },
      "source": [
        "# Load Image\n",
        "def load_image(path, label):\n",
        "  image = tf.io.read_file(path)\n",
        "  image = tf.image.decode_image(image)\n",
        "  image = tf.image.resize_with_pad(image, 256, 256, antialias=True)\n",
        "  return image, label\n",
        "\n",
        "# Transform Image\n",
        "def transform_image(image_batch, label_batch):\n",
        "  image_batch = image_batch / 255.0\n",
        "  return image_batch, label_batch"
      ],
      "execution_count": 0,
      "outputs": []
    },
    {
      "cell_type": "code",
      "metadata": {
        "id": "M37jOC7yArVf",
        "colab_type": "code",
        "colab": {}
      },
      "source": [
        "# Create Datasets for train, evaluation and testing\n",
        "def generate_datasets(train_batch_size):\n",
        "  # Train\n",
        "  train_ds = tf.data.Dataset.from_tensor_slices((df_train[\"file_url\"], df_train[\"apparent_age_avg\"]))\n",
        "  train_ds = train_ds.map(load_image, num_parallel_calls=tf.data.experimental.AUTOTUNE)\n",
        "  train_ds = train_ds.batch(train_batch_size)\n",
        "  train_ds = train_ds.map(transform_image, num_parallel_calls=tf.data.experimental.AUTOTUNE)\n",
        "  train_df = train_ds.prefetch(buffer_size=tf.data.experimental.AUTOTUNE)\n",
        "\n",
        "  # Evaluation\n",
        "  eval_ds = tf.data.Dataset.from_tensor_slices((df_eval[\"file_url\"], df_eval[\"apparent_age_avg\"]))\n",
        "  eval_ds = eval_ds.map(load_image, num_parallel_calls=tf.data.experimental.AUTOTUNE)\n",
        "  eval_ds = eval_ds.batch(train_batch_size)\n",
        "  eval_ds = eval_ds.map(transform_image, num_parallel_calls=tf.data.experimental.AUTOTUNE)\n",
        "  eval_ds = eval_ds.prefetch(buffer_size=tf.data.experimental.AUTOTUNE)\n",
        "\n",
        "  # Testing\n",
        "  test_ds = tf.data.Dataset.from_tensor_slices((df_test[\"file_url\"], df_test[\"apparent_age_avg\"]))\n",
        "  test_ds = test_ds.map(load_image, num_parallel_calls=tf.data.experimental.AUTOTUNE)\n",
        "  test_ds = test_ds.batch(train_batch_size)\n",
        "  test_ds = test_ds.map(transform_image, num_parallel_calls=tf.data.experimental.AUTOTUNE)\n",
        "  test_ds = test_ds.prefetch(buffer_size=tf.data.experimental.AUTOTUNE)\n",
        "\n",
        "  return train_ds, eval_ds, test_ds"
      ],
      "execution_count": 0,
      "outputs": []
    },
    {
      "cell_type": "markdown",
      "metadata": {
        "id": "I5QOHP8wA7RB",
        "colab_type": "text"
      },
      "source": [
        "We can still implement interleave to the input pipeline of the datasets, lets keep that in mind for later"
      ]
    },
    {
      "cell_type": "markdown",
      "metadata": {
        "id": "OeYFfYgsS1JZ",
        "colab_type": "text"
      },
      "source": [
        "## Model Definition\n",
        "We will use ResNet50 pretrained on ImageNet as model base"
      ]
    },
    {
      "cell_type": "code",
      "metadata": {
        "id": "G85S76-QS6q_",
        "colab_type": "code",
        "colab": {}
      },
      "source": [
        "class AgeClassifier(tf.keras.Model):\n",
        "  \"\"\"\n",
        "  Age Classifier\n",
        "\n",
        "  args:\n",
        "    output_network (list): Array of ints where every position represents the number of unit in that layer\n",
        "  \n",
        "  \"\"\"\n",
        "\n",
        "  def __init__(self, output_network):\n",
        "    super(AgeClassifier, self).__init__()\n",
        "\n",
        "    self.resnet = tf.keras.applications.ResNet50V2(weights=\"imagenet\", include_top=False)\n",
        "    self.set_trainable_layers(0)\n",
        "\n",
        "    self.flat = tf.keras.layers.Flatten()\n",
        "    self.output_network = deepbay.DeepFeedForward(output_network)\n",
        "\n",
        "  def set_trainable_layers(self, trainable_layers):\n",
        "    \"\"\"\n",
        "    Update the layers tha can be trained on the resnet50v2 architecture\n",
        "\n",
        "    args:\n",
        "      trainable_layers (int): number of layers that can be trained. By default all the layers are not trainable\n",
        "      example: trainable_layers=5 means only the last 5 layers of ResNet50V2 are trainable, the remaining have freezed weights.\n",
        "        ResNet50V2 have 190 layers, be careful for not exceed this number\n",
        "\n",
        "    \"\"\"\n",
        "\n",
        "    for layer in self.resnet.layers:\n",
        "      layer.trainable = False\n",
        "\n",
        "    for layer in self.resnet.layers[::-1][:trainable_layers]:\n",
        "      layer.trainable = True\n",
        "\n",
        "  def call(self, inputs):\n",
        "    X = self.resnet(inputs)\n",
        "    X = self.flat(X)\n",
        "    X = self.output_network(X)\n",
        "    return X"
      ],
      "execution_count": 0,
      "outputs": []
    },
    {
      "cell_type": "markdown",
      "metadata": {
        "id": "dlPM4SUcsJwS",
        "colab_type": "text"
      },
      "source": [
        "## Training"
      ]
    },
    {
      "cell_type": "code",
      "metadata": {
        "id": "rU9L3SYF6gp1",
        "colab_type": "code",
        "colab": {}
      },
      "source": [
        "# Hyper Parameters\n",
        "hparams = {\n",
        "    \"batch_size\": 32,\n",
        "    \"lr\": 0.0001,\n",
        "    \"output_network\": [1]#256, 128, 32, 16, \n",
        "}"
      ],
      "execution_count": 0,
      "outputs": []
    },
    {
      "cell_type": "code",
      "metadata": {
        "id": "Z0r7NaXWjytq",
        "colab_type": "code",
        "colab": {}
      },
      "source": [
        "train_ds, eval_ds, test_ds = generate_datasets(hparams[\"batch_size\"])"
      ],
      "execution_count": 0,
      "outputs": []
    },
    {
      "cell_type": "code",
      "metadata": {
        "colab_type": "code",
        "outputId": "80f4a500-3ba8-4169-9319-26dc94611ddb",
        "id": "uI4jq0J4DEuy",
        "colab": {
          "base_uri": "https://localhost:8080/",
          "height": 289
        }
      },
      "source": [
        "age_classifier = AgeClassifier(hparams[\"output_network\"])\n",
        "age_classifier.compile(\n",
        "    tf.keras.optimizers.Adam(hparams[\"lr\"]),\n",
        "    tf.keras.losses.MeanSquaredError(),\n",
        "    metrics=[tf.keras.metrics.RootMeanSquaredError()]\n",
        ")\n",
        "age_classifier.train_on_batch(train_ds.take(1))\n",
        "age_classifier.summary()"
      ],
      "execution_count": 42,
      "outputs": [
        {
          "output_type": "stream",
          "text": [
            "WARNING:tensorflow:Gradients do not exist for variables ['age_classifier_5/deep_feed_forward_6/dense_block_18/batch_normalization_19/gamma:0', 'age_classifier_5/deep_feed_forward_6/dense_block_18/batch_normalization_19/beta:0'] when minimizing the loss.\n",
            "Model: \"age_classifier_5\"\n",
            "_________________________________________________________________\n",
            "Layer (type)                 Output Shape              Param #   \n",
            "=================================================================\n",
            "resnet50v2 (Model)           (None, None, None, 2048)  23564800  \n",
            "_________________________________________________________________\n",
            "flatten_5 (Flatten)          multiple                  0         \n",
            "_________________________________________________________________\n",
            "deep_feed_forward_6 (DeepFee multiple                  655361    \n",
            "=================================================================\n",
            "Total params: 24,220,161\n",
            "Trainable params: 393,217\n",
            "Non-trainable params: 23,826,944\n",
            "_________________________________________________________________\n"
          ],
          "name": "stdout"
        }
      ]
    },
    {
      "cell_type": "code",
      "metadata": {
        "id": "Fq3V7eAgF15t",
        "colab_type": "code",
        "colab": {
          "base_uri": "https://localhost:8080/",
          "height": 390
        },
        "outputId": "d0e56ed9-14fa-45c6-8ec7-32848610de61"
      },
      "source": [
        "age_classifier.fit(train_ds, epochs=10, validation_data=eval_ds.take(1))"
      ],
      "execution_count": 44,
      "outputs": [
        {
          "output_type": "stream",
          "text": [
            "Epoch 1/10\n",
            "129/129 [==============================] - 39s 303ms/step - loss: 49.1168 - root_mean_squared_error: 7.0145 - val_loss: 0.0000e+00 - val_root_mean_squared_error: 0.0000e+00\n",
            "Epoch 2/10\n",
            "129/129 [==============================] - 40s 311ms/step - loss: 49.3561 - root_mean_squared_error: 7.0183 - val_loss: 226.3507 - val_root_mean_squared_error: 15.0449\n",
            "Epoch 3/10\n",
            "129/129 [==============================] - 40s 310ms/step - loss: 49.4352 - root_mean_squared_error: 7.0239 - val_loss: 226.3646 - val_root_mean_squared_error: 15.0454\n",
            "Epoch 4/10\n",
            "129/129 [==============================] - 40s 310ms/step - loss: 49.5213 - root_mean_squared_error: 7.0300 - val_loss: 226.3684 - val_root_mean_squared_error: 15.0455\n",
            "Epoch 5/10\n",
            "129/129 [==============================] - 40s 309ms/step - loss: 49.6059 - root_mean_squared_error: 7.0360 - val_loss: 226.3643 - val_root_mean_squared_error: 15.0454\n",
            "Epoch 6/10\n",
            "129/129 [==============================] - 40s 309ms/step - loss: 49.6854 - root_mean_squared_error: 7.0417 - val_loss: 226.3545 - val_root_mean_squared_error: 15.0450\n",
            "Epoch 7/10\n",
            "129/129 [==============================] - 40s 309ms/step - loss: 49.7583 - root_mean_squared_error: 7.0468 - val_loss: 226.3408 - val_root_mean_squared_error: 15.0446\n",
            "Epoch 8/10\n",
            "129/129 [==============================] - 40s 310ms/step - loss: 49.8243 - root_mean_squared_error: 7.0515 - val_loss: 226.3249 - val_root_mean_squared_error: 15.0441\n",
            "Epoch 9/10\n",
            "129/129 [==============================] - 40s 309ms/step - loss: 49.8837 - root_mean_squared_error: 7.0557 - val_loss: 226.3078 - val_root_mean_squared_error: 15.0435\n",
            "Epoch 10/10\n",
            "129/129 [==============================] - 40s 310ms/step - loss: 49.9366 - root_mean_squared_error: 7.0594 - val_loss: 226.2673 - val_root_mean_squared_error: 15.0422\n"
          ],
          "name": "stdout"
        },
        {
          "output_type": "execute_result",
          "data": {
            "text/plain": [
              "<tensorflow.python.keras.callbacks.History at 0x7f72a5e84630>"
            ]
          },
          "metadata": {
            "tags": []
          },
          "execution_count": 44
        }
      ]
    },
    {
      "cell_type": "code",
      "metadata": {
        "id": "rR1o2u-VzAFA",
        "colab_type": "code",
        "colab": {
          "base_uri": "https://localhost:8080/",
          "height": 373
        },
        "outputId": "7b109076-cd34-41a0-bc70-12541726fcc9"
      },
      "source": [
        "age_classifier.set_trainable_layers(22)\n",
        "age_classifier.fit(train_ds, epochs=10, validation_data=eval_ds.take(1))"
      ],
      "execution_count": 0,
      "outputs": [
        {
          "output_type": "stream",
          "text": [
            "Epoch 1/10\n",
            "129/129 [==============================] - 40s 306ms/step - loss: 49.7948 - root_mean_squared_error: 7.0627 - val_loss: 0.0000e+00 - val_root_mean_squared_error: 0.0000e+00\n",
            "Epoch 2/10\n",
            "129/129 [==============================] - 40s 309ms/step - loss: 50.0249 - root_mean_squared_error: 7.0657 - val_loss: 226.2390 - val_root_mean_squared_error: 15.0412\n",
            "Epoch 3/10\n",
            "129/129 [==============================] - 40s 310ms/step - loss: 50.0625 - root_mean_squared_error: 7.0683 - val_loss: 226.2264 - val_root_mean_squared_error: 15.0408\n",
            "Epoch 4/10\n",
            "129/129 [==============================] - 40s 311ms/step - loss: 50.0958 - root_mean_squared_error: 7.0707 - val_loss: 226.2147 - val_root_mean_squared_error: 15.0404\n",
            "Epoch 5/10\n",
            "129/129 [==============================] - 40s 311ms/step - loss: 50.1253 - root_mean_squared_error: 7.0728 - val_loss: 226.2039 - val_root_mean_squared_error: 15.0400\n",
            "Epoch 6/10\n",
            "129/129 [==============================] - 40s 308ms/step - loss: 50.1513 - root_mean_squared_error: 7.0746 - val_loss: 226.1939 - val_root_mean_squared_error: 15.0397\n",
            "Epoch 7/10\n",
            "129/129 [==============================] - 40s 308ms/step - loss: 50.1742 - root_mean_squared_error: 7.0762 - val_loss: 226.1846 - val_root_mean_squared_error: 15.0394\n",
            "Epoch 8/10\n",
            "129/129 [==============================] - 40s 311ms/step - loss: 50.1943 - root_mean_squared_error: 7.0776 - val_loss: 226.1760 - val_root_mean_squared_error: 15.0391\n",
            "Epoch 9/10\n",
            "129/129 [==============================] - 40s 313ms/step - loss: 50.2119 - root_mean_squared_error: 7.0789 - val_loss: 226.1681 - val_root_mean_squared_error: 15.0389\n",
            "Epoch 10/10\n",
            " 53/129 [===========>..................] - ETA: 23s - loss: 54.6396 - root_mean_squared_error: 7.3918"
          ],
          "name": "stdout"
        }
      ]
    },
    {
      "cell_type": "code",
      "metadata": {
        "id": "ahh7x1YCDMbd",
        "colab_type": "code",
        "colab": {
          "base_uri": "https://localhost:8080/",
          "height": 50
        },
        "outputId": "0a3a2f20-8802-4cb2-98e4-a751bff7cac7"
      },
      "source": [
        "for img, label in train_ds.take(1):\n",
        "  r = age_classifier(img)"
      ],
      "execution_count": 36,
      "outputs": [
        {
          "output_type": "stream",
          "text": [
            "tf.Tensor([    16 131072], shape=(2,), dtype=int32)\n",
            "tf.Tensor([16  1], shape=(2,), dtype=int32)\n"
          ],
          "name": "stdout"
        }
      ]
    },
    {
      "cell_type": "code",
      "metadata": {
        "id": "0dP39tlO7aS-",
        "colab_type": "code",
        "colab": {}
      },
      "source": [
        "for img, label in train_ds.take(1):\n",
        "  res = age_classifier(img)\n",
        "  prob = np.reshape(np.amax(res, axis=1), [-1, 1])\n",
        "  index = np.where(res == prob)\n",
        "  print(prob)\n",
        "\n"
      ],
      "execution_count": 0,
      "outputs": []
    },
    {
      "cell_type": "code",
      "metadata": {
        "id": "laPDhQ7w3tv0",
        "colab_type": "code",
        "colab": {}
      },
      "source": [
        "import time\n",
        "start_time = time.time()\n",
        "\n",
        "for img, label in train_ds.take(1):\n",
        "  pass\n",
        "\n",
        "print(\"--- %s seconds ---\" % (time.time() - start_time))"
      ],
      "execution_count": 0,
      "outputs": []
    }
  ]
}