{
  "nbformat": 4,
  "nbformat_minor": 0,
  "metadata": {
    "colab": {
      "name": "AgeClassifier.ipynb",
      "provenance": [],
      "collapsed_sections": [],
      "toc_visible": true,
      "include_colab_link": true
    },
    "kernelspec": {
      "name": "python3",
      "display_name": "Python 3"
    },
    "accelerator": "GPU"
  },
  "cells": [
    {
      "cell_type": "markdown",
      "metadata": {
        "id": "view-in-github",
        "colab_type": "text"
      },
      "source": [
        "<a href=\"https://colab.research.google.com/github/ElPapi42/AgeClassifier/blob/master/AgeClassifier.ipynb\" target=\"_parent\"><img src=\"https://colab.research.google.com/assets/colab-badge.svg\" alt=\"Open In Colab\"/></a>"
      ]
    },
    {
      "cell_type": "code",
      "metadata": {
        "id": "Ro-2PDN1osXM",
        "colab_type": "code",
        "colab": {}
      },
      "source": [
        "from IPython.display import clear_output\n",
        "!pip install --upgrade tensorflow-gpu\n",
        "!pip install --upgrade tqdm\n",
        "!pip install --upgrade pillow\n",
        "!pip install git+https://github.com/Jwink3101/parmapper\n",
        "clear_output()"
      ],
      "execution_count": 0,
      "outputs": []
    },
    {
      "cell_type": "code",
      "metadata": {
        "id": "0xreyHjck7yp",
        "colab_type": "code",
        "colab": {}
      },
      "source": [
        "#Imports.\n",
        "import PIL\n",
        "import os\n",
        "import tensorflow as tf\n",
        "import numpy as np\n",
        "import pandas as pd\n",
        "import seaborn as sns\n",
        "import matplotlib.pyplot as plt\n",
        "from parmapper import parmap\n",
        "import sys\n",
        "import pathlib"
      ],
      "execution_count": 0,
      "outputs": []
    },
    {
      "cell_type": "markdown",
      "metadata": {
        "id": "5RD84h7pWVqU",
        "colab_type": "text"
      },
      "source": [
        "## Data Download"
      ]
    },
    {
      "cell_type": "code",
      "metadata": {
        "id": "MaqVduZ2qMrk",
        "colab_type": "code",
        "colab": {}
      },
      "source": [
        "#Downloads and extract Dataset to local\n",
        "#You can run this on google colab for get faster downloads speeds\n",
        "import zipfile\n",
        "import requests\n",
        "from tqdm import tqdm\n",
        "\n",
        "folder_path = \"./Datasets\"\n",
        "\n",
        "appa_url = \"http://158.109.8.102/AppaRealAge/appa-real-release.zip\"\n",
        "appa_path = folder_path + '/appa-real.zip'\n",
        "\n",
        "#Create Dataset folder if not exists\n",
        "if(not os.path.exists(folder_path)):\n",
        "  os.mkdir(folder_path)\n",
        "\n",
        "#download chalearn appa-real dataset\n",
        "if(not(os.path.exists(appa_path) and os.path.isfile(appa_path))):\n",
        "  resp = requests.get(appa_url, stream=True)\n",
        "\n",
        "  total_size = int(resp.headers.get('content-length', 0))\n",
        "  block_size = 16384\n",
        "  t=tqdm(total=total_size, unit='iB', unit_scale=True)\n",
        "  \n",
        "  with open(appa_path, \"wb\") as f:\n",
        "    for data in resp.iter_content(block_size):\n",
        "      t.update(len(data))\n",
        "      f.write(data)\n",
        "    t.close()\n",
        "    f.close()\n",
        "\n",
        "    if total_size != 0 and t.n != total_size:\n",
        "      print(\"Download Error\")\n",
        "\n",
        "  #Extract\n",
        "  with zipfile.ZipFile(appa_path, 'r') as zip:\n",
        "    zip.extractall(folder_path)\n",
        "    zip.close()"
      ],
      "execution_count": 0,
      "outputs": []
    },
    {
      "cell_type": "markdown",
      "metadata": {
        "id": "CxrtrkVPeZKG",
        "colab_type": "text"
      },
      "source": [
        "## Exploratory Data Analysis"
      ]
    },
    {
      "cell_type": "code",
      "metadata": {
        "id": "TRB3ZUxBTVYD",
        "colab_type": "code",
        "colab": {}
      },
      "source": [
        "# Load Datasets\n",
        "df_train = pd.read_csv(\"/content/Datasets/appa-real-release/gt_avg_train.csv\")\n",
        "df_eval = pd.read_csv(\"/content/Datasets/appa-real-release/gt_avg_valid.csv\")\n",
        "df_test = pd.read_csv(\"/content/Datasets/appa-real-release/gt_avg_test.csv\")\n",
        "df_all = pd.concat([df_train, df_eval, df_test])"
      ],
      "execution_count": 0,
      "outputs": []
    },
    {
      "cell_type": "code",
      "metadata": {
        "id": "eY7C8fX1epCd",
        "colab_type": "code",
        "colab": {}
      },
      "source": [
        "# Lets see some examples\n",
        "df_all.head()"
      ],
      "execution_count": 0,
      "outputs": []
    },
    {
      "cell_type": "code",
      "metadata": {
        "id": "88oo3XbZfN4T",
        "colab_type": "code",
        "colab": {}
      },
      "source": [
        "# Check for nulls and other general info\n",
        "df_all.info()"
      ],
      "execution_count": 0,
      "outputs": []
    },
    {
      "cell_type": "code",
      "metadata": {
        "id": "xpob8VWSfpC3",
        "colab_type": "code",
        "colab": {}
      },
      "source": [
        "# Descriptive stats\n",
        "df_all.describe()"
      ],
      "execution_count": 0,
      "outputs": []
    },
    {
      "cell_type": "code",
      "metadata": {
        "id": "1dEqV_UxgHI6",
        "colab_type": "code",
        "colab": {}
      },
      "source": [
        "# Lets see the distribution of the apparent age and the real age\n",
        "sns.distplot(df_all[\"apparent_age_avg\"], bins=100)\n",
        "sns.distplot(df_all[\"real_age\"], bins=100)"
      ],
      "execution_count": 0,
      "outputs": []
    },
    {
      "cell_type": "markdown",
      "metadata": {
        "id": "XOG33m9Whs7G",
        "colab_type": "text"
      },
      "source": [
        "The Distribution of age dont deviate too much between the real and the apparent, we can keep it"
      ]
    },
    {
      "cell_type": "code",
      "metadata": {
        "id": "WzjFGPrXh556",
        "colab_type": "code",
        "colab": {}
      },
      "source": [
        "# Now we will check the dist between the train, eval and test datasets\n",
        "plt.figure(figsize=(15,5))\n",
        "\n",
        "plt.subplot(1, 2, 1, title=\"Apparent Avg Age\")\n",
        "sns.distplot(df_train[\"apparent_age_avg\"], bins=100)\n",
        "sns.distplot(df_eval[\"apparent_age_avg\"], bins=100)\n",
        "sns.distplot(df_test[\"apparent_age_avg\"], bins=100)\n",
        "\n",
        "plt.subplot(1, 2, 2, title=\"Real Age\")\n",
        "sns.distplot(df_train[\"real_age\"], bins=100)\n",
        "sns.distplot(df_eval[\"real_age\"], bins=100)\n",
        "sns.distplot(df_test[\"real_age\"], bins=100)\n",
        "\n",
        "plt.show()"
      ],
      "execution_count": 0,
      "outputs": []
    },
    {
      "cell_type": "markdown",
      "metadata": {
        "id": "Gm4At_UYiYcQ",
        "colab_type": "text"
      },
      "source": [
        "This one can be better, dist of test set deviates a bit from train set, but we can keep with this for now. But this visualizations open some questions, how much the avg age deviates from the real age? putting a response here can lead us to detect some possible outliers, because the avg is based on manual reviews from real people that stimates the age of the person they see in the photo. Lets check that"
      ]
    },
    {
      "cell_type": "code",
      "metadata": {
        "id": "7oPEoQhalJCN",
        "colab_type": "code",
        "colab": {}
      },
      "source": [
        "diference = df_all[\"real_age\"] - df_all[\"apparent_age_avg\"]\n",
        "sns.distplot(diference, bins=50)"
      ],
      "execution_count": 0,
      "outputs": []
    },
    {
      "cell_type": "markdown",
      "metadata": {
        "id": "1fBB6ttrq20O",
        "colab_type": "text"
      },
      "source": [
        "We will ignore this deviation for now, but we can keep in mind this for the future"
      ]
    },
    {
      "cell_type": "markdown",
      "metadata": {
        "id": "wqc3wjcDWlK-",
        "colab_type": "text"
      },
      "source": [
        "## Preprocessing"
      ]
    },
    {
      "cell_type": "code",
      "metadata": {
        "id": "B8Temvyc7zxK",
        "colab_type": "code",
        "colab": {}
      },
      "source": [
        "# Find URLs\n",
        "df_train[\"file_url\"] = \"./Datasets/appa-real-release/train/\" + df_train[\"file_name\"] + \"_face.jpg\"\n",
        "df_eval[\"file_url\"] = \"./Datasets/appa-real-release/valid/\" + df_eval[\"file_name\"] + \"_face.jpg\"\n",
        "df_test[\"file_url\"] = \"./Datasets/appa-real-release/test/\" + df_test[\"file_name\"] + \"_face.jpg\"\n",
        "df_train.head()"
      ],
      "execution_count": 0,
      "outputs": []
    },
    {
      "cell_type": "code",
      "metadata": {
        "id": "y5utUgbOjyk3",
        "colab_type": "code",
        "colab": {}
      },
      "source": [
        "image = tf.keras.preprocessing.image.load_img(\"/content/Datasets/appa-real-release/test/005613.jpg_face.jpg\")\n",
        "image"
      ],
      "execution_count": 0,
      "outputs": []
    },
    {
      "cell_type": "code",
      "metadata": {
        "id": "qElqE0dCbz7T",
        "colab_type": "code",
        "colab": {}
      },
      "source": [
        "#Lets see some examples\n",
        "plt.figure(figsize=(10,10))\n",
        "for i, path in enumerate(df_train[\"file_url\"].iloc[:9]):\n",
        "  image = tf.keras.preprocessing.image.load_img(path,)\n",
        "\n",
        "  datapoint = df_train[df_train[\"file_url\"] == path]\n",
        "  age = datapoint[\"apparent_age_avg\"].values[0]\n",
        "\n",
        "  plt.subplot(3,3,i+1, title=\"age: {age}\".format(age=age))\n",
        "  plt.imshow(image)\n",
        "plt.show()"
      ],
      "execution_count": 0,
      "outputs": []
    },
    {
      "cell_type": "markdown",
      "metadata": {
        "id": "FHSHNXDelIum",
        "colab_type": "text"
      },
      "source": [
        "## Dataset Creation"
      ]
    },
    {
      "cell_type": "code",
      "metadata": {
        "id": "bELKxoRglHgP",
        "colab_type": "code",
        "colab": {}
      },
      "source": [
        "# Generator funcion\n",
        "def load_image(path, label):\n",
        "  image = tf.io.read_file(path)\n",
        "  image = tf.image.decode_image(image)\n",
        "  image = tf.image.resize_with_pad(image, 256, 256, antialias=True)\n",
        "  return image, label\n",
        "\n",
        "def transform_image(image_batch, label_batch):\n",
        "  image_batch = image_batch / 255.0\n",
        "  return image_batch, label_batch"
      ],
      "execution_count": 0,
      "outputs": []
    },
    {
      "cell_type": "code",
      "metadata": {
        "id": "rU9L3SYF6gp1",
        "colab_type": "code",
        "colab": {}
      },
      "source": [
        "# Hyper Parameters\n",
        "batch_size = 16"
      ],
      "execution_count": 0,
      "outputs": []
    },
    {
      "cell_type": "code",
      "metadata": {
        "id": "Z0r7NaXWjytq",
        "colab_type": "code",
        "colab": {}
      },
      "source": [
        "#Create Datasets for train, evaluation and testing\n",
        "train_ds = tf.data.Dataset.from_tensor_slices((df_train[\"file_url\"], df_train[\"apparent_age_avg\"]))\n",
        "train_ds = train_ds.map(load_image, tf.data.experimental.AUTOTUNE)\n",
        "train_ds = train_ds.batch(batch_size)\n",
        "train_ds = train_ds.map(transform_image, tf.data.experimental.AUTOTUNE)\n",
        "train_df = train_ds.prefetch(buffer_size=tf.data.experimental.AUTOTUNE)\n",
        "\n",
        "#eval_ds = tf.data.Dataset.from_generator(image_loader, output_types=tf.float32, args=[df_eval[\"file_url\"]])\n",
        "#test_ds = tf.data.Dataset.from_generator(image_loader, output_types=tf.float32, args=[df_test[\"file_url\"]])"
      ],
      "execution_count": 0,
      "outputs": []
    },
    {
      "cell_type": "code",
      "metadata": {
        "id": "laPDhQ7w3tv0",
        "colab_type": "code",
        "colab": {}
      },
      "source": [
        "for img in train_ds.take(100):\n",
        "  pass"
      ],
      "execution_count": 0,
      "outputs": []
    }
  ]
}