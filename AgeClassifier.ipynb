{
  "nbformat": 4,
  "nbformat_minor": 0,
  "metadata": {
    "colab": {
      "name": "AgeClassifier.ipynb",
      "provenance": [],
      "collapsed_sections": [],
      "toc_visible": true,
      "include_colab_link": true
    },
    "kernelspec": {
      "name": "python3",
      "display_name": "Python 3"
    },
    "accelerator": "GPU"
  },
  "cells": [
    {
      "cell_type": "markdown",
      "metadata": {
        "id": "view-in-github",
        "colab_type": "text"
      },
      "source": [
        "<a href=\"https://colab.research.google.com/github/ElPapi42/AgeClassifier/blob/chalearn-dataset/AgeClassifier.ipynb\" target=\"_parent\"><img src=\"https://colab.research.google.com/assets/colab-badge.svg\" alt=\"Open In Colab\"/></a>"
      ]
    },
    {
      "cell_type": "code",
      "metadata": {
        "id": "Ro-2PDN1osXM",
        "colab_type": "code",
        "colab": {}
      },
      "source": [
        "from IPython.display import clear_output\n",
        "!pip install --upgrade tensorflow-gpu\n",
        "!pip install --upgrade tqdm\n",
        "!pip install --upgrade pillow\n",
        "!pip install git+https://github.com/Jwink3101/parmapper\n",
        "!pip install modin[ray]\n",
        "clear_output()"
      ],
      "execution_count": 0,
      "outputs": []
    },
    {
      "cell_type": "code",
      "metadata": {
        "id": "0xreyHjck7yp",
        "colab_type": "code",
        "colab": {}
      },
      "source": [
        "#Imports.\n",
        "import PIL\n",
        "import os\n",
        "\n",
        "os.environ[\"MODIN_ENGINE\"] = \"ray\"\n",
        "\n",
        "import tensorflow as tf\n",
        "import numpy as np\n",
        "import modin.pandas as pd\n",
        "import seaborn as sns\n",
        "import matplotlib.pyplot as plt\n",
        "from parmapper import parmap\n",
        "import sys\n",
        "import pathlib"
      ],
      "execution_count": 0,
      "outputs": []
    },
    {
      "cell_type": "markdown",
      "metadata": {
        "id": "5RD84h7pWVqU",
        "colab_type": "text"
      },
      "source": [
        "## Data Download"
      ]
    },
    {
      "cell_type": "code",
      "metadata": {
        "id": "MaqVduZ2qMrk",
        "colab_type": "code",
        "outputId": "f7314dbb-3858-4c8b-9532-42e568437f76",
        "colab": {
          "base_uri": "https://localhost:8080/",
          "height": 34
        }
      },
      "source": [
        "#Downloads and extract Dataset to local\n",
        "#You can run this on google colab for get faster downloads speeds\n",
        "import zipfile\n",
        "import requests\n",
        "from tqdm import tqdm\n",
        "\n",
        "folder_path = \"./Datasets\"\n",
        "\n",
        "appa_url = \"http://158.109.8.102/AppaRealAge/appa-real-release.zip\"\n",
        "appa_path = folder_path + '/appa-real.zip'\n",
        "\n",
        "#Create Dataset folder if not exists\n",
        "if(not os.path.exists(folder_path)):\n",
        "  os.mkdir(folder_path)\n",
        "\n",
        "#download chalearn appa-real dataset\n",
        "if(not(os.path.exists(appa_path) and os.path.isfile(appa_path))):\n",
        "  resp = requests.get(appa_url, stream=True)\n",
        "\n",
        "  total_size = int(resp.headers.get('content-length', 0))\n",
        "  block_size = 16384\n",
        "  t=tqdm(total=total_size, unit='iB', unit_scale=True)\n",
        "  \n",
        "  with open(appa_path, \"wb\") as f:\n",
        "    for data in resp.iter_content(block_size):\n",
        "      t.update(len(data))\n",
        "      f.write(data)\n",
        "    t.close()\n",
        "    f.close()\n",
        "\n",
        "    if total_size != 0 and t.n != total_size:\n",
        "      print(\"Download Error\")\n",
        "\n",
        "  #Extract\n",
        "  with zipfile.ZipFile(appa_path, 'r') as zip:\n",
        "    zip.extractall(folder_path)\n",
        "    zip.close()"
      ],
      "execution_count": 0,
      "outputs": [
        {
          "output_type": "stream",
          "text": [
            "100%|██████████| 885M/885M [01:46<00:00, 8.34MiB/s]\n"
          ],
          "name": "stderr"
        }
      ]
    },
    {
      "cell_type": "markdown",
      "metadata": {
        "id": "CxrtrkVPeZKG",
        "colab_type": "text"
      },
      "source": [
        "## Exploratory Data Analysis"
      ]
    },
    {
      "cell_type": "code",
      "metadata": {
        "id": "TRB3ZUxBTVYD",
        "colab_type": "code",
        "colab": {}
      },
      "source": [
        "# Load Datasets\n",
        "df_train = pd.read_csv(\"/content/Datasets/appa-real-release/gt_avg_train.csv\")\n",
        "df_eval = pd.read_csv(\"/content/Datasets/appa-real-release/gt_avg_valid.csv\")\n",
        "df_test = pd.read_csv(\"/content/Datasets/appa-real-release/gt_avg_test.csv\")\n",
        "df_all = pd.concat([df_train, df_eval, df_test])"
      ],
      "execution_count": 0,
      "outputs": []
    },
    {
      "cell_type": "code",
      "metadata": {
        "id": "eY7C8fX1epCd",
        "colab_type": "code",
        "outputId": "8ded87c8-4008-45e7-82c8-0839e0a10420",
        "colab": {
          "base_uri": "https://localhost:8080/",
          "height": 195
        }
      },
      "source": [
        "# Lets see some examples\n",
        "df_all.head()"
      ],
      "execution_count": 0,
      "outputs": [
        {
          "output_type": "execute_result",
          "data": {
            "text/html": [
              "<div>\n",
              "<style scoped>\n",
              "    .dataframe tbody tr th:only-of-type {\n",
              "        vertical-align: middle;\n",
              "    }\n",
              "\n",
              "    .dataframe tbody tr th {\n",
              "        vertical-align: top;\n",
              "    }\n",
              "\n",
              "    .dataframe thead th {\n",
              "        text-align: right;\n",
              "    }\n",
              "</style>\n",
              "<table border=\"1\" class=\"dataframe\">\n",
              "  <thead>\n",
              "    <tr style=\"text-align: right;\">\n",
              "      <th></th>\n",
              "      <th>file_name</th>\n",
              "      <th>num_ratings</th>\n",
              "      <th>apparent_age_avg</th>\n",
              "      <th>apparent_age_std</th>\n",
              "      <th>real_age</th>\n",
              "    </tr>\n",
              "  </thead>\n",
              "  <tbody>\n",
              "    <tr>\n",
              "      <th>0</th>\n",
              "      <td>000000.jpg</td>\n",
              "      <td>36</td>\n",
              "      <td>5.000000</td>\n",
              "      <td>1.146423</td>\n",
              "      <td>4</td>\n",
              "    </tr>\n",
              "    <tr>\n",
              "      <th>1</th>\n",
              "      <td>000001.jpg</td>\n",
              "      <td>63</td>\n",
              "      <td>20.079365</td>\n",
              "      <td>4.096819</td>\n",
              "      <td>18</td>\n",
              "    </tr>\n",
              "    <tr>\n",
              "      <th>2</th>\n",
              "      <td>000002.jpg</td>\n",
              "      <td>38</td>\n",
              "      <td>76.815789</td>\n",
              "      <td>6.133009</td>\n",
              "      <td>80</td>\n",
              "    </tr>\n",
              "    <tr>\n",
              "      <th>3</th>\n",
              "      <td>000003.jpg</td>\n",
              "      <td>38</td>\n",
              "      <td>55.657895</td>\n",
              "      <td>7.864653</td>\n",
              "      <td>50</td>\n",
              "    </tr>\n",
              "    <tr>\n",
              "      <th>4</th>\n",
              "      <td>000004.jpg</td>\n",
              "      <td>15</td>\n",
              "      <td>17.666667</td>\n",
              "      <td>3.457222</td>\n",
              "      <td>17</td>\n",
              "    </tr>\n",
              "  </tbody>\n",
              "</table>\n",
              "</div>"
            ],
            "text/plain": [
              "    file_name  num_ratings  apparent_age_avg  apparent_age_std  real_age\n",
              "0  000000.jpg           36          5.000000          1.146423         4\n",
              "1  000001.jpg           63         20.079365          4.096819        18\n",
              "2  000002.jpg           38         76.815789          6.133009        80\n",
              "3  000003.jpg           38         55.657895          7.864653        50\n",
              "4  000004.jpg           15         17.666667          3.457222        17"
            ]
          },
          "metadata": {
            "tags": []
          },
          "execution_count": 5
        }
      ]
    },
    {
      "cell_type": "code",
      "metadata": {
        "id": "88oo3XbZfN4T",
        "colab_type": "code",
        "outputId": "eb8722e6-48e5-4906-b0f0-4354771c03c6",
        "colab": {
          "base_uri": "https://localhost:8080/",
          "height": 185
        }
      },
      "source": [
        "# Check for nulls and other general info\n",
        "df_all.info()"
      ],
      "execution_count": 0,
      "outputs": [
        {
          "output_type": "stream",
          "text": [
            "<class 'pandas.core.frame.DataFrame'>\n",
            "Int64Index: 7591 entries, 0 to 1977\n",
            "Data columns (total 5 columns):\n",
            "file_name           7591 non-null object\n",
            "num_ratings         7591 non-null int64\n",
            "apparent_age_avg    7591 non-null float64\n",
            "apparent_age_std    7591 non-null float64\n",
            "real_age            7591 non-null int64\n",
            "dtypes: float64(2), int64(2), object(1)\n",
            "memory usage: 355.8+ KB\n"
          ],
          "name": "stdout"
        }
      ]
    },
    {
      "cell_type": "code",
      "metadata": {
        "id": "xpob8VWSfpC3",
        "colab_type": "code",
        "outputId": "97d022de-e6cb-4be3-b985-0dea36bb3728",
        "colab": {
          "base_uri": "https://localhost:8080/",
          "height": 284
        }
      },
      "source": [
        "# Descriptive stats\n",
        "df_all.describe()"
      ],
      "execution_count": 0,
      "outputs": [
        {
          "output_type": "execute_result",
          "data": {
            "text/html": [
              "<div>\n",
              "<style scoped>\n",
              "    .dataframe tbody tr th:only-of-type {\n",
              "        vertical-align: middle;\n",
              "    }\n",
              "\n",
              "    .dataframe tbody tr th {\n",
              "        vertical-align: top;\n",
              "    }\n",
              "\n",
              "    .dataframe thead th {\n",
              "        text-align: right;\n",
              "    }\n",
              "</style>\n",
              "<table border=\"1\" class=\"dataframe\">\n",
              "  <thead>\n",
              "    <tr style=\"text-align: right;\">\n",
              "      <th></th>\n",
              "      <th>num_ratings</th>\n",
              "      <th>apparent_age_avg</th>\n",
              "      <th>apparent_age_std</th>\n",
              "      <th>real_age</th>\n",
              "    </tr>\n",
              "  </thead>\n",
              "  <tbody>\n",
              "    <tr>\n",
              "      <th>count</th>\n",
              "      <td>7591.000000</td>\n",
              "      <td>7591.000000</td>\n",
              "      <td>7591.000000</td>\n",
              "      <td>7591.000000</td>\n",
              "    </tr>\n",
              "    <tr>\n",
              "      <th>mean</th>\n",
              "      <td>34.337505</td>\n",
              "      <td>30.965106</td>\n",
              "      <td>4.339865</td>\n",
              "      <td>31.201159</td>\n",
              "    </tr>\n",
              "    <tr>\n",
              "      <th>std</th>\n",
              "      <td>27.788812</td>\n",
              "      <td>15.627235</td>\n",
              "      <td>1.877274</td>\n",
              "      <td>17.145060</td>\n",
              "    </tr>\n",
              "    <tr>\n",
              "      <th>min</th>\n",
              "      <td>10.000000</td>\n",
              "      <td>0.923077</td>\n",
              "      <td>0.000000</td>\n",
              "      <td>1.000000</td>\n",
              "    </tr>\n",
              "    <tr>\n",
              "      <th>25%</th>\n",
              "      <td>14.000000</td>\n",
              "      <td>21.974679</td>\n",
              "      <td>3.149931</td>\n",
              "      <td>20.000000</td>\n",
              "    </tr>\n",
              "    <tr>\n",
              "      <th>50%</th>\n",
              "      <td>37.000000</td>\n",
              "      <td>28.727273</td>\n",
              "      <td>4.357660</td>\n",
              "      <td>29.000000</td>\n",
              "    </tr>\n",
              "    <tr>\n",
              "      <th>75%</th>\n",
              "      <td>39.000000</td>\n",
              "      <td>38.975973</td>\n",
              "      <td>5.509453</td>\n",
              "      <td>41.000000</td>\n",
              "    </tr>\n",
              "    <tr>\n",
              "      <th>max</th>\n",
              "      <td>609.000000</td>\n",
              "      <td>95.567568</td>\n",
              "      <td>14.510423</td>\n",
              "      <td>100.000000</td>\n",
              "    </tr>\n",
              "  </tbody>\n",
              "</table>\n",
              "</div>"
            ],
            "text/plain": [
              "       num_ratings  apparent_age_avg  apparent_age_std     real_age\n",
              "count  7591.000000       7591.000000       7591.000000  7591.000000\n",
              "mean     34.337505         30.965106          4.339865    31.201159\n",
              "std      27.788812         15.627235          1.877274    17.145060\n",
              "min      10.000000          0.923077          0.000000     1.000000\n",
              "25%      14.000000         21.974679          3.149931    20.000000\n",
              "50%      37.000000         28.727273          4.357660    29.000000\n",
              "75%      39.000000         38.975973          5.509453    41.000000\n",
              "max     609.000000         95.567568         14.510423   100.000000"
            ]
          },
          "metadata": {
            "tags": []
          },
          "execution_count": 7
        }
      ]
    },
    {
      "cell_type": "code",
      "metadata": {
        "id": "1dEqV_UxgHI6",
        "colab_type": "code",
        "outputId": "a64f0c6d-d1ca-4bb5-c6a9-ed083768a915",
        "colab": {
          "base_uri": "https://localhost:8080/",
          "height": 297
        }
      },
      "source": [
        "# Lets see the distribution of the apparent age and the real age\n",
        "sns.distplot(df_all[\"apparent_age_avg\"], bins=100)\n",
        "sns.distplot(df_all[\"real_age\"], bins=100)"
      ],
      "execution_count": 0,
      "outputs": [
        {
          "output_type": "execute_result",
          "data": {
            "text/plain": [
              "<matplotlib.axes._subplots.AxesSubplot at 0x7ff884dd42e8>"
            ]
          },
          "metadata": {
            "tags": []
          },
          "execution_count": 8
        },
        {
          "output_type": "display_data",
          "data": {
            "image/png": "[encoded data removed]",
            "text/plain": [
              "<Figure size 432x288 with 1 Axes>"
            ]
          },
          "metadata": {
            "tags": []
          }
        }
      ]
    },
    {
      "cell_type": "markdown",
      "metadata": {
        "id": "XOG33m9Whs7G",
        "colab_type": "text"
      },
      "source": [
        "The Distribution of age dont deviate too much between the real and the apparent, we can keep it"
      ]
    },
    {
      "cell_type": "code",
      "metadata": {
        "id": "WzjFGPrXh556",
        "colab_type": "code",
        "outputId": "f9d982fb-deef-4369-ae73-2900ce444a98",
        "colab": {
          "base_uri": "https://localhost:8080/",
          "height": 351
        }
      },
      "source": [
        "# Now we will check the dist between the train, eval and test datasets\n",
        "plt.figure(figsize=(15,5))\n",
        "\n",
        "plt.subplot(1, 2, 1, title=\"Apparent Avg Age\")\n",
        "sns.distplot(df_train[\"apparent_age_avg\"], bins=100)\n",
        "sns.distplot(df_eval[\"apparent_age_avg\"], bins=100)\n",
        "sns.distplot(df_test[\"apparent_age_avg\"], bins=100)\n",
        "\n",
        "plt.subplot(1, 2, 2, title=\"Real Age\")\n",
        "sns.distplot(df_train[\"real_age\"], bins=100)\n",
        "sns.distplot(df_eval[\"real_age\"], bins=100)\n",
        "sns.distplot(df_test[\"real_age\"], bins=100)\n",
        "\n",
        "plt.show()"
      ],
      "execution_count": 0,
      "outputs": [
        {
          "output_type": "display_data",
          "data": {
            "image/png": "[encoded data removed]",
            "text/plain": [
              "<Figure size 1080x360 with 2 Axes>"
            ]
          },
          "metadata": {
            "tags": []
          }
        }
      ]
    },
    {
      "cell_type": "markdown",
      "metadata": {
        "id": "Gm4At_UYiYcQ",
        "colab_type": "text"
      },
      "source": [
        "This one can be better, dist of test set deviates a bit from train set, but we can keep with this for now. But this visualizations open some questions, how much the avg age deviates from the real age? putting a response here can lead us to detect some possible outliers, because the avg is based on manual reviews from real people that stimates the age of the person they see in the photo. Lets check that"
      ]
    },
    {
      "cell_type": "code",
      "metadata": {
        "id": "7oPEoQhalJCN",
        "colab_type": "code",
        "outputId": "03b40a10-c26e-465d-e2b5-5bbad6e0c99e",
        "colab": {
          "base_uri": "https://localhost:8080/",
          "height": 282
        }
      },
      "source": [
        "diference = df_all[\"real_age\"] - df_all[\"apparent_age_avg\"]\n",
        "sns.distplot(diference, bins=50)"
      ],
      "execution_count": 0,
      "outputs": [
        {
          "output_type": "execute_result",
          "data": {
            "text/plain": [
              "<matplotlib.axes._subplots.AxesSubplot at 0x7ff883f714a8>"
            ]
          },
          "metadata": {
            "tags": []
          },
          "execution_count": 10
        },
        {
          "output_type": "display_data",
          "data": {
            "image/png": "[encoded data removed]",
            "text/plain": [
              "<Figure size 432x288 with 1 Axes>"
            ]
          },
          "metadata": {
            "tags": []
          }
        }
      ]
    },
    {
      "cell_type": "markdown",
      "metadata": {
        "id": "1fBB6ttrq20O",
        "colab_type": "text"
      },
      "source": [
        "We will ignore this deviation for now, but we can keep in mind this for the future"
      ]
    },
    {
      "cell_type": "markdown",
      "metadata": {
        "id": "wqc3wjcDWlK-",
        "colab_type": "text"
      },
      "source": [
        "## Preprocessing"
      ]
    },
    {
      "cell_type": "code",
      "metadata": {
        "id": "B8Temvyc7zxK",
        "colab_type": "code",
        "outputId": "011ac0d9-7c84-4a0d-a6af-a3f87282de1a",
        "colab": {
          "base_uri": "https://localhost:8080/",
          "height": 195
        }
      },
      "source": [
        "# Find URLs\n",
        "df_train[\"file_url\"] = \"./Datasets/appa-real-release/train/\" + df_train[\"file_name\"] + \"_face.jpg\"\n",
        "df_eval[\"file_url\"] = \"./Datasets/appa-real-release/valid/\" + df_eval[\"file_name\"] + \"_face.jpg\"\n",
        "df_test[\"file_url\"] = \"./Datasets/appa-real-release/test/\" + df_test[\"file_name\"] + \"_face.jpg\"\n",
        "df_train.head()"
      ],
      "execution_count": 0,
      "outputs": [
        {
          "output_type": "execute_result",
          "data": {
            "text/html": [
              "<div>\n",
              "<style scoped>\n",
              "    .dataframe tbody tr th:only-of-type {\n",
              "        vertical-align: middle;\n",
              "    }\n",
              "\n",
              "    .dataframe tbody tr th {\n",
              "        vertical-align: top;\n",
              "    }\n",
              "\n",
              "    .dataframe thead th {\n",
              "        text-align: right;\n",
              "    }\n",
              "</style>\n",
              "<table border=\"1\" class=\"dataframe\">\n",
              "  <thead>\n",
              "    <tr style=\"text-align: right;\">\n",
              "      <th></th>\n",
              "      <th>file_name</th>\n",
              "      <th>num_ratings</th>\n",
              "      <th>apparent_age_avg</th>\n",
              "      <th>apparent_age_std</th>\n",
              "      <th>real_age</th>\n",
              "      <th>file_url</th>\n",
              "    </tr>\n",
              "  </thead>\n",
              "  <tbody>\n",
              "    <tr>\n",
              "      <th>0</th>\n",
              "      <td>000000.jpg</td>\n",
              "      <td>36</td>\n",
              "      <td>5.000000</td>\n",
              "      <td>1.146423</td>\n",
              "      <td>4</td>\n",
              "      <td>./Datasets/appa-real-release/train/000000.jpg_...</td>\n",
              "    </tr>\n",
              "    <tr>\n",
              "      <th>1</th>\n",
              "      <td>000001.jpg</td>\n",
              "      <td>63</td>\n",
              "      <td>20.079365</td>\n",
              "      <td>4.096819</td>\n",
              "      <td>18</td>\n",
              "      <td>./Datasets/appa-real-release/train/000001.jpg_...</td>\n",
              "    </tr>\n",
              "    <tr>\n",
              "      <th>2</th>\n",
              "      <td>000002.jpg</td>\n",
              "      <td>38</td>\n",
              "      <td>76.815789</td>\n",
              "      <td>6.133009</td>\n",
              "      <td>80</td>\n",
              "      <td>./Datasets/appa-real-release/train/000002.jpg_...</td>\n",
              "    </tr>\n",
              "    <tr>\n",
              "      <th>3</th>\n",
              "      <td>000003.jpg</td>\n",
              "      <td>38</td>\n",
              "      <td>55.657895</td>\n",
              "      <td>7.864653</td>\n",
              "      <td>50</td>\n",
              "      <td>./Datasets/appa-real-release/train/000003.jpg_...</td>\n",
              "    </tr>\n",
              "    <tr>\n",
              "      <th>4</th>\n",
              "      <td>000004.jpg</td>\n",
              "      <td>15</td>\n",
              "      <td>17.666667</td>\n",
              "      <td>3.457222</td>\n",
              "      <td>17</td>\n",
              "      <td>./Datasets/appa-real-release/train/000004.jpg_...</td>\n",
              "    </tr>\n",
              "  </tbody>\n",
              "</table>\n",
              "</div>"
            ],
            "text/plain": [
              "    file_name  ...                                           file_url\n",
              "0  000000.jpg  ...  ./Datasets/appa-real-release/train/000000.jpg_...\n",
              "1  000001.jpg  ...  ./Datasets/appa-real-release/train/000001.jpg_...\n",
              "2  000002.jpg  ...  ./Datasets/appa-real-release/train/000002.jpg_...\n",
              "3  000003.jpg  ...  ./Datasets/appa-real-release/train/000003.jpg_...\n",
              "4  000004.jpg  ...  ./Datasets/appa-real-release/train/000004.jpg_...\n",
              "\n",
              "[5 rows x 6 columns]"
            ]
          },
          "metadata": {
            "tags": []
          },
          "execution_count": 11
        }
      ]
    },
    {
      "cell_type": "code",
      "metadata": {
        "id": "y5utUgbOjyk3",
        "colab_type": "code",
        "colab": {}
      },
      "source": [
        "image = tf.keras.preprocessing.image.load_img(\"/content/Datasets/appa-real-release/test/005613.jpg_face.jpg\")\n",
        "image"
      ],
      "execution_count": 0,
      "outputs": []
    },
    {
      "cell_type": "code",
      "metadata": {
        "id": "qElqE0dCbz7T",
        "colab_type": "code",
        "colab": {}
      },
      "source": [
        "#Lets see some examples\n",
        "plt.figure(figsize=(10,10))\n",
        "for i, path in enumerate(df_train[\"file_url\"].iloc[:9]):\n",
        "  image = tf.keras.preprocessing.image.load_img(path,)\n",
        "\n",
        "  datapoint = df_train[df_train[\"file_url\"] == path]\n",
        "  age = datapoint[\"apparent_age_avg\"].values[0]\n",
        "\n",
        "  plt.subplot(3,3,i+1, title=\"age: {age}\".format(age=age))\n",
        "  plt.imshow(image)\n",
        "plt.show()"
      ],
      "execution_count": 0,
      "outputs": []
    },
    {
      "cell_type": "markdown",
      "metadata": {
        "id": "FHSHNXDelIum",
        "colab_type": "text"
      },
      "source": [
        "## Dataset Creation"
      ]
    },
    {
      "cell_type": "code",
      "metadata": {
        "id": "bELKxoRglHgP",
        "colab_type": "code",
        "colab": {}
      },
      "source": [
        "# Generator funcion\n",
        "def load_image(path, label):\n",
        "  image = tf.io.read_file(path)\n",
        "  image = tf.image.decode_image(image)\n",
        "  image = tf.image.resize_with_pad(image, 256, 256, antialias=True)\n",
        "  return image, label\n",
        "\n",
        "def transform_image(image_batch, label_batch):\n",
        "  image_batch = image_batch / 255.0\n",
        "  return image_batch, label_batch"
      ],
      "execution_count": 0,
      "outputs": []
    },
    {
      "cell_type": "code",
      "metadata": {
        "id": "rU9L3SYF6gp1",
        "colab_type": "code",
        "colab": {}
      },
      "source": [
        "# Hyper Parameters\n",
        "batch_size = 16"
      ],
      "execution_count": 0,
      "outputs": []
    },
    {
      "cell_type": "code",
      "metadata": {
        "id": "Z0r7NaXWjytq",
        "colab_type": "code",
        "colab": {}
      },
      "source": [
        "#Create Datasets for train, evaluation and testing\n",
        "train_ds = tf.data.Dataset.from_tensor_slices((df_train[\"file_url\"], df_train[\"apparent_age_avg\"]))\n",
        "train_ds = train_ds.map(load_image, tf.data.experimental.AUTOTUNE)\n",
        "train_ds = train_ds.batch(batch_size)\n",
        "train_ds = train_ds.map(transform_image, tf.data.experimental.AUTOTUNE)\n",
        "train_df = train_ds.prefetch(buffer_size=tf.data.experimental.AUTOTUNE)\n",
        "\n",
        "#eval_ds = tf.data.Dataset.from_generator(image_loader, output_types=tf.float32, args=[df_eval[\"file_url\"]])\n",
        "#test_ds = tf.data.Dataset.from_generator(image_loader, output_types=tf.float32, args=[df_test[\"file_url\"]])"
      ],
      "execution_count": 0,
      "outputs": []
    },
    {
      "cell_type": "code",
      "metadata": {
        "id": "laPDhQ7w3tv0",
        "colab_type": "code",
        "colab": {}
      },
      "source": [
        "for img in train_ds.take(100):\n",
        "  pass"
      ],
      "execution_count": 0,
      "outputs": []
    }
  ]
}